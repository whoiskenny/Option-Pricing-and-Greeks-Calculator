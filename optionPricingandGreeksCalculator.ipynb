{
 "cells": [
  {
   "cell_type": "markdown",
   "id": "a167af79-2b36-4651-8053-c502274dfda8",
   "metadata": {},
   "source": [
    "## Option Pricing and Greeks Calculator"
   ]
  },
  {
   "cell_type": "markdown",
   "id": "01160e94-10c9-4536-89eb-b7efc0ea37f6",
   "metadata": {},
   "source": [
    "### Setup"
   ]
  },
  {
   "cell_type": "code",
   "execution_count": 1,
   "id": "39f1356b-5ff5-45fb-9c83-e98e84cd8867",
   "metadata": {},
   "outputs": [],
   "source": [
    "# Import necessary libraries\n",
    "import numpy as np\n",
    "from scipy.stats import norm\n",
    "\n",
    "# Constants\n",
    "PI = np.pi"
   ]
  },
  {
   "cell_type": "markdown",
   "id": "750d136b-f707-45a5-a9c9-689139a82b63",
   "metadata": {},
   "source": [
    "### Utility Functions"
   ]
  },
  {
   "cell_type": "code",
   "execution_count": 2,
   "id": "62181b02-17c9-4f6f-bcc0-2352ddfe9fbf",
   "metadata": {},
   "outputs": [],
   "source": [
    "# Generate Gaussian noise\n",
    "def generate_gaussian_noise(mean=0.0, stddev=1.0, size=1):\n",
    "    return np.random.normal(mean, stddev, size)\n",
    "\n",
    "# Black-Scholes Formula\n",
    "def black_scholes_price(S, K, r, sigma, T, is_call=True):\n",
    "    d1 = (np.log(S / K) + (r + 0.5 * sigma**2) * T) / (sigma * np.sqrt(T))\n",
    "    d2 = d1 - sigma * np.sqrt(T)\n",
    "    if is_call:\n",
    "        return S * norm.cdf(d1) - K * np.exp(-r * T) * norm.cdf(d2)\n",
    "    else:\n",
    "        return K * np.exp(-r * T) * norm.cdf(-d2) - S * norm.cdf(-d1)\n"
   ]
  },
  {
   "cell_type": "markdown",
   "id": "ff17c870-b77c-4667-809c-4d820f778009",
   "metadata": {},
   "source": [
    "### Monte Carlo Simulation"
   ]
  },
  {
   "cell_type": "code",
   "execution_count": 3,
   "id": "ed42f118-5e7d-467f-9d2b-5ab355eb076f",
   "metadata": {},
   "outputs": [],
   "source": [
    "def monte_carlo_option_pricing(S0, K, r, sigma, T, num_simulations, is_call=True):\n",
    "    payoffs = []\n",
    "    for _ in range(num_simulations):\n",
    "        ST = S0 * np.exp((r - 0.5 * sigma**2) * T + sigma * np.sqrt(T) * generate_gaussian_noise()[0])\n",
    "        payoff = max(ST - K, 0) if is_call else max(K - ST, 0)\n",
    "        payoffs.append(payoff)\n",
    "    discounted_payoff = np.exp(-r * T) * np.mean(payoffs)\n",
    "    return discounted_payoff\n"
   ]
  },
  {
   "cell_type": "markdown",
   "id": "44fcd7f9-5ab5-43aa-902d-c65defe92d58",
   "metadata": {},
   "source": [
    "### Calculate Greeks"
   ]
  },
  {
   "cell_type": "code",
   "execution_count": 4,
   "id": "e2d8a384-e519-4463-b72b-51d765753e47",
   "metadata": {},
   "outputs": [],
   "source": [
    "def calculate_greeks(S, K, r, sigma, T, is_call=True, h=0.01):\n",
    "    # Base price\n",
    "    base_price = black_scholes_price(S, K, r, sigma, T, is_call)\n",
    "\n",
    "    # Delta\n",
    "    delta = (black_scholes_price(S + h, K, r, sigma, T, is_call) - \n",
    "             black_scholes_price(S - h, K, r, sigma, T, is_call)) / (2 * h)\n",
    "\n",
    "    # Gamma\n",
    "    gamma = (black_scholes_price(S + h, K, r, sigma, T, is_call) - \n",
    "             2 * base_price + \n",
    "             black_scholes_price(S - h, K, r, sigma, T, is_call)) / (h**2)\n",
    "\n",
    "    # Theta\n",
    "    theta = (black_scholes_price(S, K, r, sigma, T - h / 365, is_call) - \n",
    "             base_price) / (h / 365)\n",
    "\n",
    "    # Vega\n",
    "    vega = (black_scholes_price(S, K, r, sigma + h, T, is_call) - \n",
    "            base_price) / h\n",
    "\n",
    "    # Rho\n",
    "    rho = (black_scholes_price(S, K, r + h, sigma, T, is_call) - \n",
    "           base_price) / h\n",
    "\n",
    "    return {\"Delta\": delta, \"Gamma\": gamma, \"Theta\": theta, \"Vega\": vega, \"Rho\": rho}\n"
   ]
  },
  {
   "cell_type": "markdown",
   "id": "f4097140-2096-41e6-8053-ce50d3e68136",
   "metadata": {},
   "source": [
    "### Main Execution Cell"
   ]
  },
  {
   "cell_type": "code",
   "execution_count": 5,
   "id": "de9a683a-1685-428c-8a06-3ebac743c51b",
   "metadata": {},
   "outputs": [
    {
     "name": "stdout",
     "output_type": "stream",
     "text": [
      "European Call Option Prices:\n",
      "  Black-Scholes: 10.450583572185565\n",
      "  Monte Carlo: 10.439341868035166\n",
      "\n",
      "European Put Option Prices:\n",
      "  Black-Scholes: 5.573526022256971\n",
      "  Monte Carlo: 5.622266345268301\n",
      "\n",
      "Call Option Greeks:\n",
      "  Delta: 0.6368306425763137\n",
      "  Gamma: 0.018762017077733617\n",
      "  Theta: -6.414056291621506\n",
      "  Vega: 37.570374206513435\n",
      "  Rho: 53.896558044043275\n",
      "\n",
      "Put Option Greeks:\n",
      "  Delta: -0.36316935742419787\n",
      "  Gamma: 0.018762017077733617\n",
      "  Theta: -1.6579059116814676\n",
      "  Vega: 37.570374206513435\n",
      "  Rho: -40.75235112061151\n"
     ]
    }
   ],
   "source": [
    "# Parameters\n",
    "S0 = 100.0  # Initial stock price\n",
    "K = 100.0   # Strike price\n",
    "r = 0.05    # Risk-free rate\n",
    "sigma = 0.2 # Volatility\n",
    "T = 1.0     # Time to maturity\n",
    "num_simulations = 100000\n",
    "\n",
    "# Calculate European Option Prices\n",
    "bs_call_price = black_scholes_price(S0, K, r, sigma, T, True)\n",
    "bs_put_price = black_scholes_price(S0, K, r, sigma, T, False)\n",
    "mc_call_price = monte_carlo_option_pricing(S0, K, r, sigma, T, num_simulations, True)\n",
    "mc_put_price = monte_carlo_option_pricing(S0, K, r, sigma, T, num_simulations, False)\n",
    "\n",
    "# Greeks\n",
    "call_greeks = calculate_greeks(S0, K, r, sigma, T, True)\n",
    "put_greeks = calculate_greeks(S0, K, r, sigma, T, False)\n",
    "\n",
    "# Output Results\n",
    "print(\"European Call Option Prices:\")\n",
    "print(f\"  Black-Scholes: {bs_call_price}\")\n",
    "print(f\"  Monte Carlo: {mc_call_price}\")\n",
    "\n",
    "print(\"\\nEuropean Put Option Prices:\")\n",
    "print(f\"  Black-Scholes: {bs_put_price}\")\n",
    "print(f\"  Monte Carlo: {mc_put_price}\")\n",
    "\n",
    "print(\"\\nCall Option Greeks:\")\n",
    "for greek, value in call_greeks.items():\n",
    "    print(f\"  {greek}: {value}\")\n",
    "\n",
    "print(\"\\nPut Option Greeks:\")\n",
    "for greek, value in put_greeks.items():\n",
    "    print(f\"  {greek}: {value}\")\n"
   ]
  },
  {
   "cell_type": "markdown",
   "id": "895c7adc-5271-453a-a98d-434122070d51",
   "metadata": {},
   "source": [
    "### Visualization of payoff structure, Greeks."
   ]
  },
  {
   "cell_type": "code",
   "execution_count": 6,
   "id": "cae2ae78-d358-4792-b001-dd785f5991f3",
   "metadata": {},
   "outputs": [
    {
     "data": {
      "image/png": "[encoded data removed]",
      "text/plain": [
       "<Figure size 640x480 with 1 Axes>"
      ]
     },
     "metadata": {},
     "output_type": "display_data"
    }
   ],
   "source": [
    "import matplotlib.pyplot as plt\n",
    "\n",
    "# Example: Visualizing Simulated Paths\n",
    "plt.hist([generate_gaussian_noise()[0] for _ in range(10000)], bins=50, alpha=0.75)\n",
    "plt.title(\"Distribution of Simulated Prices\")\n",
    "plt.show()\n"
   ]
  },
  {
   "cell_type": "code",
   "execution_count": null,
   "id": "2bc5ac4e-c556-4de9-853b-b9a4290e12d5",
   "metadata": {},
   "outputs": [],
   "source": []
  }
 ],
 "metadata": {
  "kernelspec": {
   "display_name": "Python (sit320)",
   "language": "python",
   "name": "sit320"
  },
  "language_info": {
   "codemirror_mode": {
    "name": "ipython",
    "version": 3
   },
   "file_extension": ".py",
   "mimetype": "text/x-python",
   "name": "python",
   "nbconvert_exporter": "python",
   "pygments_lexer": "ipython3",
   "version": "3.12.4"
  }
 },
 "nbformat": 4,
 "nbformat_minor": 5
}
